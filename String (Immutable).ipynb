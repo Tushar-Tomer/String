{
 "cells": [
  {
   "cell_type": "code",
   "execution_count": 1,
   "id": "07f425f0",
   "metadata": {},
   "outputs": [
    {
     "name": "stdout",
     "output_type": "stream",
     "text": [
      "Hiii i am Deepanshu\n"
     ]
    }
   ],
   "source": [
    "# String Notation\n",
    "a='Hiii i am Deepanshu'\n",
    "print(a) "
   ]
  },
  {
   "cell_type": "code",
   "execution_count": 5,
   "id": "a3818c9a",
   "metadata": {},
   "outputs": [
    {
     "name": "stdout",
     "output_type": "stream",
     "text": [
      " hiiii am Deepanshu\n",
      " hiiii am deepanshu\n"
     ]
    }
   ],
   "source": [
    "b=\" hiiii am Deepanshu\"\n",
    "print(b)\n",
    "print(b.replace('D','d'))"
   ]
  },
  {
   "cell_type": "code",
   "execution_count": 1,
   "id": "a30911b8",
   "metadata": {},
   "outputs": [
    {
     "name": "stdout",
     "output_type": "stream",
     "text": [
      " hiii\n",
      "my\n",
      "name\n",
      "is\n",
      "deepanshu\n",
      "verma\n",
      "\n",
      "\n",
      "\n"
     ]
    }
   ],
   "source": [
    "# multi line strings\n",
    "d=''' hiii\n",
    "my\n",
    "name\n",
    "is\n",
    "deepanshu\n",
    "verma\n",
    "\n",
    "\n",
    "'''\n",
    "print(d)\n",
    "\n"
   ]
  },
  {
   "cell_type": "code",
   "execution_count": 1,
   "id": "f11c46cc",
   "metadata": {},
   "outputs": [
    {
     "name": "stdout",
     "output_type": "stream",
     "text": [
      "Hello\n",
      "     Tushar\n"
     ]
    }
   ],
   "source": [
    "print(\"\"\"Hello\n",
    "     Tushar\"\"\")"
   ]
  },
  {
   "cell_type": "code",
   "execution_count": 6,
   "id": "6bab6da2",
   "metadata": {},
   "outputs": [
    {
     "name": "stdout",
     "output_type": "stream",
     "text": [
      "Hii \n",
      "   i \n",
      "    am \n",
      "      Tushar\n"
     ]
    }
   ],
   "source": [
    "a=\"\"\"Hii \n",
    "   i \n",
    "    am \n",
    "      Tushar\"\"\"\n",
    "print(a)"
   ]
  },
  {
   "cell_type": "code",
   "execution_count": 1,
   "id": "69e974fa",
   "metadata": {},
   "outputs": [
    {
     "name": "stdout",
     "output_type": "stream",
     "text": [
      "10\n",
      "\n",
      "hdhopqw\n",
      "dihpc[j\n",
      "     c,w\n",
      "     dsugdpqwx\n",
      "     qwx]\n",
      "\n"
     ]
    }
   ],
   "source": [
    "\n",
    "a=10\n",
    "print(a)\n",
    "b='''\n",
    "hdhopqw\n",
    "dihpc[j\n",
    "     c,w\n",
    "     dsugdpqwx\n",
    "     qwx]\n",
    "'''\n",
    "print(b)\n"
   ]
  },
  {
   "cell_type": "code",
   "execution_count": 8,
   "id": "fd2cefe5",
   "metadata": {},
   "outputs": [
    {
     "name": "stdout",
     "output_type": "stream",
     "text": [
      " hiiii \n",
      "             my\n",
      "                 name  \n",
      "                      is \n",
      "                         Deepanshu\n",
      "                                   verma\n",
      "\n"
     ]
    }
   ],
   "source": [
    "c=\"\"\" hiiii \n",
    "             my\n",
    "                 name  \n",
    "                      is \n",
    "                         Deepanshu\n",
    "                                   verma\n",
    "\"\"\"\n",
    "print(c)\n"
   ]
  },
  {
   "cell_type": "code",
   "execution_count": 11,
   "id": "07b46189",
   "metadata": {},
   "outputs": [
    {
     "name": "stdout",
     "output_type": "stream",
     "text": [
      "Tushar\n",
      "      Tomer\n",
      "           is\n",
      "             a\n",
      "              very\n",
      "                  good\n",
      "                      boy.\n"
     ]
    }
   ],
   "source": [
    "a=\"\"\"Tushar\n",
    "      Tomer\n",
    "           is\n",
    "             a\n",
    "              very\n",
    "                  good\n",
    "                      boy.\"\"\"\n",
    "print(a)"
   ]
  },
  {
   "cell_type": "markdown",
   "id": "97e3d7a5",
   "metadata": {},
   "source": [
    "### String formatting"
   ]
  },
  {
   "cell_type": "code",
   "execution_count": 4,
   "id": "ad5d457d",
   "metadata": {},
   "outputs": [
    {
     "name": "stdout",
     "output_type": "stream",
     "text": [
      "Deepanshuverma\n"
     ]
    }
   ],
   "source": [
    "name='Deepanshu'\n",
    "full_name=name+ 'verma'\n",
    "print(full_name) # concatenation"
   ]
  },
  {
   "cell_type": "code",
   "execution_count": 13,
   "id": "3f1cde0f",
   "metadata": {},
   "outputs": [
    {
     "name": "stdout",
     "output_type": "stream",
     "text": [
      "Tushar Tomer\n"
     ]
    }
   ],
   "source": [
    "a='Tushar '\n",
    "last_name='Tomer'\n",
    "print(a+last_name)"
   ]
  },
  {
   "cell_type": "code",
   "execution_count": 14,
   "id": "76cd4e3d",
   "metadata": {},
   "outputs": [
    {
     "name": "stdout",
     "output_type": "stream",
     "text": [
      "Tushar Tomer\n"
     ]
    }
   ],
   "source": [
    "a='Tushar '\n",
    "last_name=a+'Tomer'\n",
    "print(last_name)"
   ]
  },
  {
   "cell_type": "code",
   "execution_count": 2,
   "id": "bb0d1aaa",
   "metadata": {},
   "outputs": [
    {
     "name": "stdout",
     "output_type": "stream",
     "text": [
      "Hiii i am Deepanshu Hiii i am Deepanshu\n"
     ]
    }
   ],
   "source": [
    "a='Hiii i am Deepanshu'\n",
    "b=' Hiii i am Deepanshu'\n",
    "print(a+b)"
   ]
  },
  {
   "cell_type": "code",
   "execution_count": 6,
   "id": "89a0af5c",
   "metadata": {},
   "outputs": [
    {
     "name": "stdout",
     "output_type": "stream",
     "text": [
      "Deepanshu verma\n"
     ]
    }
   ],
   "source": [
    "name='Deepanshu'\n",
    "full_name=name+ ' '+'verma'\n",
    "print(full_name) # concatenation"
   ]
  },
  {
   "cell_type": "code",
   "execution_count": 13,
   "id": "97833d1c",
   "metadata": {},
   "outputs": [
    {
     "name": "stdout",
     "output_type": "stream",
     "text": [
      "verma deepanshu \n",
      "verma deepanshu verma deepanshu verma deepanshu verma deepanshu verma deepanshu \n"
     ]
    }
   ],
   "source": [
    "a=' deepanshu '\n",
    "b='verma'\n",
    "c=b+a\n",
    "print(c)\n",
    "print(c*5)"
   ]
  },
  {
   "cell_type": "code",
   "execution_count": 10,
   "id": "082f8c83",
   "metadata": {},
   "outputs": [
    {
     "ename": "TypeError",
     "evalue": "unsupported operand type(s) for -: 'str' and 'str'",
     "output_type": "error",
     "traceback": [
      "\u001b[1;31m---------------------------------------------------------------------------\u001b[0m",
      "\u001b[1;31mTypeError\u001b[0m                                 Traceback (most recent call last)",
      "\u001b[1;32m<ipython-input-10-0818a97af4b6>\u001b[0m in \u001b[0;36m<module>\u001b[1;34m\u001b[0m\n\u001b[0;32m      2\u001b[0m \u001b[0ma\u001b[0m\u001b[1;33m=\u001b[0m\u001b[1;34m'deepanshu'\u001b[0m\u001b[1;33m\u001b[0m\u001b[1;33m\u001b[0m\u001b[0m\n\u001b[0;32m      3\u001b[0m \u001b[0mc\u001b[0m\u001b[1;33m=\u001b[0m\u001b[1;34m'verma'\u001b[0m\u001b[1;33m\u001b[0m\u001b[1;33m\u001b[0m\u001b[0m\n\u001b[1;32m----> 4\u001b[1;33m \u001b[0mprint\u001b[0m\u001b[1;33m(\u001b[0m\u001b[0mx\u001b[0m\u001b[1;33m-\u001b[0m\u001b[0mc\u001b[0m\u001b[1;33m)\u001b[0m\u001b[1;33m\u001b[0m\u001b[1;33m\u001b[0m\u001b[0m\n\u001b[0m",
      "\u001b[1;31mTypeError\u001b[0m: unsupported operand type(s) for -: 'str' and 'str'"
     ]
    }
   ],
   "source": [
    "x='hiii'\n",
    "a='deepanshu'\n",
    "c='verma'\n",
    "print(x-c) # It is not work because string has no subtraction operand . "
   ]
  },
  {
   "cell_type": "code",
   "execution_count": 72,
   "id": "91097401",
   "metadata": {},
   "outputs": [
    {
     "name": "stdout",
     "output_type": "stream",
     "text": [
      "aa\n"
     ]
    }
   ],
   "source": [
    "d='a'\n",
    "print(d*2)"
   ]
  },
  {
   "cell_type": "code",
   "execution_count": 15,
   "id": "3602f115",
   "metadata": {},
   "outputs": [
    {
     "name": "stdout",
     "output_type": "stream",
     "text": [
      "hello hiii\n"
     ]
    }
   ],
   "source": [
    "a='hiii'\n",
    "print('hello'+' '+a)"
   ]
  },
  {
   "cell_type": "code",
   "execution_count": 9,
   "id": "eee10f21",
   "metadata": {},
   "outputs": [
    {
     "name": "stdout",
     "output_type": "stream",
     "text": [
      "hello good morning\n",
      "hello good evening good morning\n",
      "hello good evening good morning\n",
      "hello good morning good evening\n"
     ]
    }
   ],
   "source": [
    "## f specifier\n",
    "## format specifier\n",
    "greeting='good morning'\n",
    "greeting1='good evening'\n",
    "print('hello',greeting)\n",
    "print('hello', greeting1, greeting)\n",
    "print(f'hello {greeting1} {greeting}')\n",
    "print('hello {} {}'.format(greeting,greeting1))"
   ]
  },
  {
   "cell_type": "code",
   "execution_count": 21,
   "id": "bfe6d6df",
   "metadata": {},
   "outputs": [
    {
     "name": "stdout",
     "output_type": "stream",
     "text": [
      "How are you, Deepanshu?\n"
     ]
    }
   ],
   "source": [
    "# format specifier\n",
    "name='Deepanshu'\n",
    "\n",
    "final_greeting = 'How are you, {}?'\n",
    "\n",
    "print(final_greeting.format(name))\n",
    "# print(final_greeting)\n"
   ]
  },
  {
   "cell_type": "code",
   "execution_count": 12,
   "id": "d615ddd1",
   "metadata": {},
   "outputs": [
    {
     "name": "stdout",
     "output_type": "stream",
     "text": [
      "How are you,Tushar Tomer?\n"
     ]
    }
   ],
   "source": [
    "a='Tushar'\n",
    "b='Tomer'\n",
    "final='How are you,{} {}?'\n",
    "print(final.format(a,b))"
   ]
  },
  {
   "cell_type": "code",
   "execution_count": 14,
   "id": "9733eaa2",
   "metadata": {},
   "outputs": [
    {
     "name": "stdout",
     "output_type": "stream",
     "text": [
      " my first name is Deepanshu and sur name is verma \n",
      " my first name is verma and sur name is Deepanshu \n"
     ]
    }
   ],
   "source": [
    "name='Deepanshu'\n",
    "surname='verma'\n",
    "\n",
    "print(' my first name is {} and sur name is {} '.format(name,surname))\n",
    "print(' my first name is {} and sur name is {} '.format(surname,name))"
   ]
  },
  {
   "cell_type": "markdown",
   "id": "1283b1cb",
   "metadata": {},
   "source": [
    "####  calculate your age in months use the f string to print ?"
   ]
  },
  {
   "cell_type": "code",
   "execution_count": 191,
   "id": "ac2b3a01",
   "metadata": {},
   "outputs": [
    {
     "name": "stdout",
     "output_type": "stream",
     "text": [
      "Enter your age: 24\n",
      "You have lived for 288 months.\n"
     ]
    }
   ],
   "source": [
    "age = int(input('Enter your age: ')) # Enter 3\n",
    "print(f'You have lived for {age * 12} months.') # Prints You have lived for 36 months.\n"
   ]
  },
  {
   "cell_type": "code",
   "execution_count": 39,
   "id": "8be7950d",
   "metadata": {},
   "outputs": [
    {
     "name": "stdout",
     "output_type": "stream",
     "text": [
      "Enter your age: 24\n",
      "You have lived for 288 months.\n"
     ]
    }
   ],
   "source": [
    "age = int(input('Enter your age: ')) # Enter 3\n",
    "months = age * 12\n",
    "print(f'You have lived for {months} months.') # Prints You have lived for 36 months.\n"
   ]
  },
  {
   "cell_type": "markdown",
   "id": "8bd7a71e",
   "metadata": {},
   "source": [
    "### A small exercise: calculate number of seconds lived instead of months! ?\n"
   ]
  },
  {
   "cell_type": "code",
   "execution_count": 193,
   "id": "6b61eadf",
   "metadata": {},
   "outputs": [
    {
     "name": "stdout",
     "output_type": "stream",
     "text": [
      "enter age24\n",
      "my age is 756864000 in seconds\n"
     ]
    }
   ],
   "source": [
    "age=int(input('enter age'))\n",
    "print(f'my age is {age*365*24*60*60} in seconds')"
   ]
  },
  {
   "cell_type": "code",
   "execution_count": 187,
   "id": "cfcb49a3",
   "metadata": {},
   "outputs": [
    {
     "name": "stdout",
     "output_type": "stream",
     "text": [
      "6\n",
      "r\n"
     ]
    }
   ],
   "source": [
    "a='Tushar'\n",
    "print(len(a))\n",
    "print(a[5])"
   ]
  },
  {
   "cell_type": "code",
   "execution_count": 10,
   "id": "63ddae5a",
   "metadata": {},
   "outputs": [],
   "source": [
    "name='deepanshu123456789'\n",
    "\n",
    "surname='VERMA'\n",
    "                                 \n",
    "# print(len(name)) # to check the length of string\n",
    "# print(len(surname))\n",
    "# print(name[0])\n",
    "# print(name[0:10])\n",
    "# print(name[-2])\n",
    "# print(name[-5:])\n",
    "# print(name[-5:-1])\n",
    "# print(name[-1:-5:-1])\n",
    "# print(name[-1::-1])\n",
    "# print(name[-1:0:-1])\n",
    "# print(name[:])\n",
    "# print(name[0:])\n",
    "# print(name[-1:-6:-1])"
   ]
  },
  {
   "cell_type": "code",
   "execution_count": 35,
   "id": "5553a96d",
   "metadata": {},
   "outputs": [
    {
     "ename": "TypeError",
     "evalue": "'str' object does not support item assignment",
     "output_type": "error",
     "traceback": [
      "\u001b[1;31m---------------------------------------------------------------------------\u001b[0m",
      "\u001b[1;31mTypeError\u001b[0m                                 Traceback (most recent call last)",
      "Input \u001b[1;32mIn [35]\u001b[0m, in \u001b[0;36m<cell line: 4>\u001b[1;34m()\u001b[0m\n\u001b[0;32m      1\u001b[0m \u001b[38;5;66;03m# checking immutability\u001b[39;00m\n\u001b[0;32m      2\u001b[0m a\u001b[38;5;241m=\u001b[39m\u001b[38;5;124m'\u001b[39m\u001b[38;5;124mdeepanshu\u001b[39m\u001b[38;5;124m'\u001b[39m\n\u001b[1;32m----> 4\u001b[0m a[\u001b[38;5;241m0\u001b[39m]\u001b[38;5;241m=\u001b[39m\u001b[38;5;124m'\u001b[39m\u001b[38;5;124mD\u001b[39m\u001b[38;5;124m'\u001b[39m\n\u001b[0;32m      5\u001b[0m \u001b[38;5;28mprint\u001b[39m(a)\n",
      "\u001b[1;31mTypeError\u001b[0m: 'str' object does not support item assignment"
     ]
    }
   ],
   "source": [
    "# checking immutability\n",
    "a='deepanshu'\n",
    "\n",
    "a[0]='D'\n",
    "print(a)"
   ]
  },
  {
   "cell_type": "code",
   "execution_count": 36,
   "id": "d5715474",
   "metadata": {},
   "outputs": [
    {
     "name": "stdout",
     "output_type": "stream",
     "text": [
      "2\n"
     ]
    }
   ],
   "source": [
    "name='deepanshu123466789'\n",
    "print(name.count('e'))"
   ]
  },
  {
   "cell_type": "code",
   "execution_count": 35,
   "id": "3df677ad",
   "metadata": {},
   "outputs": [
    {
     "name": "stdout",
     "output_type": "stream",
     "text": [
      "s\n"
     ]
    }
   ],
   "source": [
    "print(name[6]) # indexing"
   ]
  },
  {
   "cell_type": "code",
   "execution_count": 25,
   "id": "740ca154",
   "metadata": {},
   "outputs": [
    {
     "name": "stdout",
     "output_type": "stream",
     "text": [
      "u\n",
      "6\n"
     ]
    }
   ],
   "source": [
    "print(name[8])\n",
    "print(name[13])"
   ]
  },
  {
   "cell_type": "code",
   "execution_count": 26,
   "id": "d21f21e0",
   "metadata": {},
   "outputs": [
    {
     "name": "stdout",
     "output_type": "stream",
     "text": [
      "pan\n"
     ]
    }
   ],
   "source": [
    "print(name[3:6]) # slicing last index excluded"
   ]
  },
  {
   "cell_type": "code",
   "execution_count": 38,
   "id": "16b3b0c5",
   "metadata": {},
   "outputs": [
    {
     "name": "stdout",
     "output_type": "stream",
     "text": [
      "[10000]eepanshu123466789\n"
     ]
    }
   ],
   "source": [
    "print(name.replace('d','[10000]'))"
   ]
  },
  {
   "cell_type": "code",
   "execution_count": 37,
   "id": "af3a8ad3",
   "metadata": {},
   "outputs": [
    {
     "name": "stdout",
     "output_type": "stream",
     "text": [
      "shu123466789\n"
     ]
    }
   ],
   "source": [
    "print(name[6:1000000000000000000000000000000000000]) #slicing"
   ]
  },
  {
   "cell_type": "code",
   "execution_count": 11,
   "id": "cb8726cc",
   "metadata": {},
   "outputs": [
    {
     "name": "stdout",
     "output_type": "stream",
     "text": [
      "['a', 'quick', 'brown', 'fox', 'jumps', 'over', 'the', 'lazy', 'dogs']\n",
      "a quick brown fox jumps over the lazy dogs\n"
     ]
    }
   ],
   "source": [
    "a='a quick brown fox jumps over the lazy dogs'\n",
    "b=a.split()\n",
    "print(b)\n",
    "print(a.strip(a[5]))"
   ]
  },
  {
   "cell_type": "code",
   "execution_count": 22,
   "id": "a4e12dea",
   "metadata": {},
   "outputs": [
    {
     "name": "stdout",
     "output_type": "stream",
     "text": [
      "['a', 'quick', 'brown', 'fox', 'jumps', 'over', 'the', 'lazy']\n"
     ]
    }
   ],
   "source": [
    "a=['a', 'quick', 'brown', 'fox', 'jumps', 'over', 'the', 'lazy', 'dogs']\n",
    "a.remove('dogs')\n",
    "print(a)"
   ]
  },
  {
   "cell_type": "code",
   "execution_count": 19,
   "id": "a78f5a97",
   "metadata": {},
   "outputs": [
    {
     "name": "stdout",
     "output_type": "stream",
     "text": [
      "a quick brown fox jumps over the lazy \n"
     ]
    }
   ],
   "source": [
    "a='a quick brown fox jumps over the lazy dogs'\n",
    "print(a.rstrip('dogs'))"
   ]
  },
  {
   "cell_type": "code",
   "execution_count": 20,
   "id": "c18ac74e",
   "metadata": {},
   "outputs": [
    {
     "ename": "AttributeError",
     "evalue": "'str' object has no attribute 'remove'",
     "output_type": "error",
     "traceback": [
      "\u001b[1;31m---------------------------------------------------------------------------\u001b[0m",
      "\u001b[1;31mAttributeError\u001b[0m                            Traceback (most recent call last)",
      "Input \u001b[1;32mIn [20]\u001b[0m, in \u001b[0;36m<cell line: 2>\u001b[1;34m()\u001b[0m\n\u001b[0;32m      1\u001b[0m a\u001b[38;5;241m=\u001b[39m\u001b[38;5;124m'\u001b[39m\u001b[38;5;124ma quick brown fox jumps over the lazy dogs\u001b[39m\u001b[38;5;124m'\u001b[39m\n\u001b[1;32m----> 2\u001b[0m \u001b[43ma\u001b[49m\u001b[38;5;241;43m.\u001b[39;49m\u001b[43mremove\u001b[49m(\u001b[38;5;124m'\u001b[39m\u001b[38;5;124mjumps\u001b[39m\u001b[38;5;124m'\u001b[39m)\n\u001b[0;32m      3\u001b[0m \u001b[38;5;28mprint\u001b[39m(a)\n",
      "\u001b[1;31mAttributeError\u001b[0m: 'str' object has no attribute 'remove'"
     ]
    }
   ],
   "source": [
    "a='a quick brown fox jumps over the lazy dogs'# String can't support remove\n",
    "a.remove('jumps')\n",
    "print(a)"
   ]
  },
  {
   "cell_type": "code",
   "execution_count": 1,
   "id": "6ebd5040",
   "metadata": {},
   "outputs": [
    {
     "name": "stdout",
     "output_type": "stream",
     "text": [
      "a quick brown fox jumps over the lazy dogs\n"
     ]
    }
   ],
   "source": [
    "a='a quick brown fox jumps over the lazy dogs'# String can't support remove\n",
    "a.replace('jumps',\"\")\n",
    "print(a)"
   ]
  },
  {
   "cell_type": "code",
   "execution_count": 12,
   "id": "80ff1a31",
   "metadata": {},
   "outputs": [
    {
     "name": "stdout",
     "output_type": "stream",
     "text": [
      "['a', 'quick', 'brown', 'fox', 'jumps', 'over', 'the', 'lazy', 'dogs']\n"
     ]
    }
   ],
   "source": [
    "a='a quick brown fox jumps over the lazy dogs'\n",
    "a=a.split()\n",
    "print(a)"
   ]
  },
  {
   "cell_type": "code",
   "execution_count": 13,
   "id": "72b8c81b",
   "metadata": {},
   "outputs": [
    {
     "name": "stdout",
     "output_type": "stream",
     "text": [
      "brown fox jumps over the lazy dogs\n"
     ]
    }
   ],
   "source": [
    "a='a quick brown fox jumps over the lazy dogs'\n",
    "\n",
    "print(a.lstrip('a quick'))"
   ]
  },
  {
   "cell_type": "code",
   "execution_count": 201,
   "id": "f534d9cd",
   "metadata": {},
   "outputs": [
    {
     "name": "stdout",
     "output_type": "stream",
     "text": [
      "9\n"
     ]
    }
   ],
   "source": [
    "print(name[-1:])"
   ]
  },
  {
   "cell_type": "code",
   "execution_count": 202,
   "id": "acf3e276",
   "metadata": {},
   "outputs": [
    {
     "name": "stdout",
     "output_type": "stream",
     "text": [
      "deepanshu123466\n"
     ]
    }
   ],
   "source": [
    "print(name[:-3])"
   ]
  },
  {
   "cell_type": "code",
   "execution_count": 203,
   "id": "dfd40aa6",
   "metadata": {},
   "outputs": [
    {
     "name": "stdout",
     "output_type": "stream",
     "text": [
      "987664321uhsnapeed\n"
     ]
    }
   ],
   "source": [
    "print(name[::-1])"
   ]
  },
  {
   "cell_type": "code",
   "execution_count": 11,
   "id": "22fdac5d",
   "metadata": {},
   "outputs": [
    {
     "name": "stdout",
     "output_type": "stream",
     "text": [
      "667\n"
     ]
    }
   ],
   "source": [
    "print(name[-5:-2]) # slicing"
   ]
  },
  {
   "cell_type": "code",
   "execution_count": 12,
   "id": "bdaaafc9",
   "metadata": {},
   "outputs": [
    {
     "name": "stdout",
     "output_type": "stream",
     "text": [
      "987664321uhsnapeed\n"
     ]
    }
   ],
   "source": [
    "print(name[::-1]) # reverse of stirng"
   ]
  },
  {
   "cell_type": "code",
   "execution_count": 205,
   "id": "552440a0",
   "metadata": {},
   "outputs": [
    {
     "name": "stdout",
     "output_type": "stream",
     "text": [
      "DEEPANSHU123466789\n"
     ]
    }
   ],
   "source": [
    "print(name.upper())"
   ]
  },
  {
   "cell_type": "code",
   "execution_count": 204,
   "id": "b80d9ff4",
   "metadata": {},
   "outputs": [
    {
     "name": "stdout",
     "output_type": "stream",
     "text": [
      "verma\n"
     ]
    }
   ],
   "source": [
    "print(surname.lower())"
   ]
  },
  {
   "cell_type": "code",
   "execution_count": 97,
   "id": "79a8bcb4",
   "metadata": {},
   "outputs": [
    {
     "name": "stdout",
     "output_type": "stream",
     "text": [
      "2\n"
     ]
    }
   ],
   "source": [
    "print(name.count('e'))"
   ]
  },
  {
   "cell_type": "code",
   "execution_count": 208,
   "id": "7336b975",
   "metadata": {},
   "outputs": [
    {
     "name": "stdout",
     "output_type": "stream",
     "text": [
      "8\n"
     ]
    }
   ],
   "source": [
    "print(name.find('u'))"
   ]
  },
  {
   "cell_type": "code",
   "execution_count": 209,
   "id": "1f482ffd",
   "metadata": {},
   "outputs": [
    {
     "name": "stdout",
     "output_type": "stream",
     "text": [
      "Deepanshu123466789\n"
     ]
    }
   ],
   "source": [
    "print(name.replace('d','D'))"
   ]
  },
  {
   "cell_type": "code",
   "execution_count": 210,
   "id": "bd473a3f",
   "metadata": {},
   "outputs": [
    {
     "name": "stdout",
     "output_type": "stream",
     "text": [
      "False\n"
     ]
    }
   ],
   "source": [
    "print(name.isalpha())\n"
   ]
  },
  {
   "cell_type": "code",
   "execution_count": 171,
   "id": "d04989e7",
   "metadata": {},
   "outputs": [
    {
     "name": "stdout",
     "output_type": "stream",
     "text": [
      "True\n"
     ]
    }
   ],
   "source": [
    "a='1234'\n",
    "print(a.isdigit())"
   ]
  },
  {
   "cell_type": "code",
   "execution_count": 99,
   "id": "d15ceb68",
   "metadata": {},
   "outputs": [
    {
     "name": "stdout",
     "output_type": "stream",
     "text": [
      "True\n",
      "False\n",
      "True\n",
      "deeaanshu123\n",
      "npanshu123\n"
     ]
    }
   ],
   "source": [
    "b='deepanshu123'\n",
    "print(b.isalnum()) #t\n",
    "print(b.isupper()) #f\n",
    "print(b.islower()) #t\n",
    "print(b.replace('p','a'))\n",
    "print(b.replace(b[0:3],'n'))"
   ]
  },
  {
   "cell_type": "code",
   "execution_count": 103,
   "id": "db831c41",
   "metadata": {},
   "outputs": [
    {
     "name": "stdout",
     "output_type": "stream",
     "text": [
      "Karan Tomer\n"
     ]
    }
   ],
   "source": [
    "a='Tushar Tomer'\n",
    "print(a.replace(a[0:6],'Karan'))"
   ]
  },
  {
   "cell_type": "code",
   "execution_count": 104,
   "id": "cdb75f42",
   "metadata": {},
   "outputs": [
    {
     "name": "stdout",
     "output_type": "stream",
     "text": [
      "Tushar Tomer\n",
      "Karan Tomer\n"
     ]
    }
   ],
   "source": [
    "a='Tushar Tomer'\n",
    "print(a.replace('a[0:6]','Karan'))# because slicing is not in inverted comma('')\n",
    "print(a.replace('Tushar','Karan'))"
   ]
  },
  {
   "cell_type": "markdown",
   "id": "62d4231c",
   "metadata": {},
   "source": [
    "### String functions"
   ]
  },
  {
   "cell_type": "code",
   "execution_count": 56,
   "id": "3f14f7ce",
   "metadata": {},
   "outputs": [
    {
     "name": "stdout",
     "output_type": "stream",
     "text": [
      "god yzal eht revo spmuj xof nworb kciuq a\n",
      "gzhvmooca\n",
      "------------------------------------------\n",
      "ick brown fox jum\n"
     ]
    },
    {
     "data": {
      "text/plain": [
       "'fox jumps over'"
      ]
     },
     "execution_count": 56,
     "metadata": {},
     "output_type": "execute_result"
    }
   ],
   "source": [
    "mystr='a quick brown fox jumps over the lazy dog'\n",
    "# print(len(mystr))\n",
    "# print(mystr[5])\n",
    "# print(mystr[7])\n",
    "# print(mystr[0:4])\n",
    "# print(mystr[:21])\n",
    "# print(mystr[0:41])\n",
    "# print(mystr[0:])\n",
    "# print(mystr[100])\n",
    "# print(mystr[30])\n",
    "# print(mystr[0:100])\n",
    "# print(mystr[100:0])\n",
    "# print(mystr[0:42:2])\n",
    "# print(mystr[0:42:10])\n",
    "# print(mystr[0:42:100])\n",
    "# print(mystr[::])\n",
    "# print(mystr[0:41:1])\n",
    "# print(mystr[::1])\n",
    "# print(mystr[::2])\n",
    "# print(mystr[::50])\n",
    "# print(mystr[19:5])\n",
    "# print(mystr[19:-5])\n",
    "# print(mystr[-3])\n",
    "# print(mystr[-3:])\n",
    "# print(mystr[0:-3])\n",
    "# print(mystr[-3:-2])\n",
    "# print(mystr[-27:-24])\n",
    "# print(mystr[-3:-11])\n",
    "# print(mystr[14:17])\n",
    "print(mystr[::-1])\n",
    "print(mystr[::-5])\n",
    "print('------------------------------------------')\n",
    "print(mystr[4:21])\n",
    "mystr[14:28]\n"
   ]
  },
  {
   "cell_type": "code",
   "execution_count": 17,
   "id": "7b2c410c",
   "metadata": {},
   "outputs": [
    {
     "name": "stdout",
     "output_type": "stream",
     "text": [
      "Counter({' ': 9, 'o': 4, 'a': 3, 'u': 2, 'r': 2, 'e': 2, 'q': 1, 'i': 1, 'c': 1, 'k': 1, 'b': 1, 'w': 1, 'n': 1, 'f': 1, 'x': 1, 'j': 1, 'm': 1, 'p': 1, 's': 1, 'v': 1, 'l': 1, 'z': 1, 'y': 1, 't': 1, 'h': 1, 'd': 1, 'g': 1})\n"
     ]
    }
   ],
   "source": [
    "from collections import Counter\n",
    "mystr='a quick brown fox jumps over a lazy the dog'\n",
    "print(Counter(mystr))"
   ]
  },
  {
   "cell_type": "code",
   "execution_count": 18,
   "id": "0dfd1faa",
   "metadata": {},
   "outputs": [],
   "source": [
    "mystr='a quick brown fox jumps over a lazy the dog'"
   ]
  },
  {
   "cell_type": "code",
   "execution_count": 19,
   "id": "44ee2023",
   "metadata": {},
   "outputs": [
    {
     "name": "stdout",
     "output_type": "stream",
     "text": [
      "4\n"
     ]
    }
   ],
   "source": [
    "# count\n",
    "print(mystr.count('o')) # to count the particular character in a string"
   ]
  },
  {
   "cell_type": "code",
   "execution_count": 147,
   "id": "ca5e6850",
   "metadata": {},
   "outputs": [
    {
     "name": "stdout",
     "output_type": "stream",
     "text": [
      "A quick brown fox jumps over the lazy dog\n"
     ]
    }
   ],
   "source": [
    "#capitalize\n",
    "print(mystr.capitalize())"
   ]
  },
  {
   "cell_type": "code",
   "execution_count": 150,
   "id": "13fcbc18",
   "metadata": {},
   "outputs": [
    {
     "name": "stdout",
     "output_type": "stream",
     "text": [
      "Tushar is a very good boy.\n",
      "Tushar Is A Very Good Boy.\n"
     ]
    }
   ],
   "source": [
    "a='tushar is a very good boy.'\n",
    "print(a.capitalize())\n",
    "print(a.title())"
   ]
  },
  {
   "cell_type": "code",
   "execution_count": 20,
   "id": "4da319bc",
   "metadata": {},
   "outputs": [
    {
     "name": "stdout",
     "output_type": "stream",
     "text": [
      "['tushar', 'is', 'a', 'very', 'good', 'boy.']\n",
      "['tushar', 'is', 'very', 'good', 'boy.']\n",
      "tushar is very good boy. \n"
     ]
    }
   ],
   "source": [
    "a='tushar is a very good boy.'\n",
    "x=''\n",
    "b=(a.split())\n",
    "print(b)\n",
    "b.remove('a')\n",
    "print(b)\n",
    "# z=b.split()\n",
    "# print(z)\n",
    "#print(str(b))\n",
    "for i in b:\n",
    "        x=x+i\n",
    "        x=x+\" \"\n",
    "print(x)\n",
    "#print(''.join(b))"
   ]
  },
  {
   "cell_type": "code",
   "execution_count": 60,
   "id": "f7c6df80",
   "metadata": {},
   "outputs": [
    {
     "name": "stdout",
     "output_type": "stream",
     "text": [
      "T 0\n",
      "u 1\n",
      "s 2\n",
      "a 3\n",
      "h 4\n",
      "r 5\n",
      "  6\n",
      "i 7\n",
      "s 8\n",
      "  9\n",
      "a 10\n",
      "  11\n",
      "v 12\n",
      "e 13\n",
      "r 14\n",
      "y 15\n",
      "  16\n",
      "g 17\n",
      "o 18\n",
      "o 19\n",
      "d 20\n",
      "  21\n",
      "b 22\n",
      "o 23\n",
      "y 24\n",
      ". 25\n",
      "Tusahr is a very Good boy.\n",
      "Tusahr is a very good boy.\n"
     ]
    }
   ],
   "source": [
    "a='Tusahr is a very good boy.'\n",
    "b=0\n",
    "for i in a:\n",
    "    print(i,b)\n",
    "    b+=1\n",
    "print(a.replace(a[17],'G'))\n",
    "print(a.capitalize())"
   ]
  },
  {
   "cell_type": "code",
   "execution_count": 66,
   "id": "21ea8e26",
   "metadata": {},
   "outputs": [
    {
     "name": "stdout",
     "output_type": "stream",
     "text": [
      "8\n",
      "8\n"
     ]
    }
   ],
   "source": [
    "mystr='a quick fox jumps over a lazy the dog'\n",
    "#find\n",
    "# print(mystr.find('o'))\n",
    "# print(mystr.find('do'))\n",
    "# print(mystr.find('#$%^&*((*&^%$))'))\n",
    "print(mystr.find('br'))"
   ]
  },
  {
   "cell_type": "code",
   "execution_count": 155,
   "id": "aee4a859",
   "metadata": {},
   "outputs": [
    {
     "name": "stdout",
     "output_type": "stream",
     "text": [
      "9\n"
     ]
    }
   ],
   "source": [
    "a='Tushar @ .'\n",
    "print(a.find('.'))"
   ]
  },
  {
   "cell_type": "code",
   "execution_count": 56,
   "id": "08445374",
   "metadata": {},
   "outputs": [
    {
     "name": "stdout",
     "output_type": "stream",
     "text": [
      "10\n",
      "10\n"
     ]
    }
   ],
   "source": [
    "print(mystr.index('o'))\n",
    "print(mystr.find('o'))"
   ]
  },
  {
   "cell_type": "code",
   "execution_count": 68,
   "id": "734d3ae8",
   "metadata": {},
   "outputs": [
    {
     "name": "stdout",
     "output_type": "stream",
     "text": [
      "False\n",
      "True\n",
      "True\n",
      "True\n",
      "True\n",
      "False\n",
      "['a', 'a', 'b', 'c', 'd', 'e', 'e', 'f', 'g', 'h', 'i', 'j', 'k', 'l', 'm', 'n', 'o', 'o', 'o', 'o', 'p', 'q', 'r', 'r', 's', 't', 'u', 'u', 'v', 'w', 'x', 'y', 'z']\n"
     ]
    }
   ],
   "source": [
    "mystr='a quick brown fox jumps over a lazy dog'\n",
    "mystr1='aquickbrownfoxjumpsoverthelazydog'\n",
    "mystr2='12345678967'\n",
    "mystr3='deepanshu2022'\n",
    "mystr4=' '\n",
    "print(mystr.isalpha())\n",
    "print(mystr1.isalpha())\n",
    "print(mystr2.isdigit())\n",
    "print(mystr3.isalnum())\n",
    "print(mystr4.isspace())\n",
    "print(mystr.isspace())\n",
    "print(sorted(mystr1))\n",
    "\n"
   ]
  },
  {
   "cell_type": "code",
   "execution_count": 20,
   "id": "eb47015f",
   "metadata": {},
   "outputs": [],
   "source": [
    "mystr='a quick brown fox jumps over a lazy dog'\n",
    "\n"
   ]
  },
  {
   "cell_type": "code",
   "execution_count": 69,
   "id": "70c1e447",
   "metadata": {},
   "outputs": [
    {
     "name": "stdout",
     "output_type": "stream",
     "text": [
      "A QUICK BROWN FOX JUMPS OVER A LAZY DOG\n",
      "A QUICK BROWN FOX JUMPS OVER A LAZY DOG\n",
      "a quick brown fox jumps over a lazy dog\n",
      "A QUICK BROWN FOX JUMPS OVER A LAZY DOG\n",
      "False\n",
      "True\n"
     ]
    }
   ],
   "source": [
    "print(mystr.upper())\n",
    "abc=mystr.upper()\n",
    "print(abc)\n",
    "print(abc.lower())\n",
    "print(abc.upper())\n",
    "print(abc.islower())\n",
    "print(abc.isupper())\n",
    "\n"
   ]
  },
  {
   "cell_type": "code",
   "execution_count": 73,
   "id": "d5fc378a",
   "metadata": {},
   "outputs": [
    {
     "name": "stdout",
     "output_type": "stream",
     "text": [
      "True\n",
      "False\n",
      "True\n",
      "Deepanshu\n"
     ]
    }
   ],
   "source": [
    "name='Deepanshu'\n",
    "name1='deepanshu'\n",
    "string=' '\n",
    "# print(name.iscapitalize()) because iscapitalized does not exist\n",
    "print(name.istitle()) # checks the first word  is capita or not\n",
    "print(name1.istitle())\n",
    "print(string.isspace())\n",
    "print(name.capitalize())"
   ]
  },
  {
   "cell_type": "code",
   "execution_count": 23,
   "id": "b46949ad",
   "metadata": {},
   "outputs": [
    {
     "name": "stdout",
     "output_type": "stream",
     "text": [
      "a quick brown fox jumps over a lazy dog\n"
     ]
    }
   ],
   "source": [
    "print(mystr)"
   ]
  },
  {
   "cell_type": "code",
   "execution_count": 76,
   "id": "b63185fd",
   "metadata": {},
   "outputs": [
    {
     "name": "stdout",
     "output_type": "stream",
     "text": [
      "a jaldi brown fox jumps over a lazy dog\n",
      "a   brown fox jumps over a lazy dog\n"
     ]
    }
   ],
   "source": [
    "print(mystr.replace('quick','jaldi'))\n",
    "print(mystr.replace('quick',' '))"
   ]
  },
  {
   "cell_type": "code",
   "execution_count": 26,
   "id": "9c80dff4",
   "metadata": {},
   "outputs": [
    {
     "name": "stdout",
     "output_type": "stream",
     "text": [
      "upper\n",
      "LOWER\n"
     ]
    }
   ],
   "source": [
    "xyz='UPPER'\n",
    "abc='lower'\n",
    "print(xyz.swapcase())\n",
    "print(abc.swapcase())\n"
   ]
  },
  {
   "cell_type": "code",
   "execution_count": 158,
   "id": "b876cacf",
   "metadata": {},
   "outputs": [
    {
     "name": "stdout",
     "output_type": "stream",
     "text": [
      "tUSHAR tOMER\n",
      "Tushar Tomer\n"
     ]
    }
   ],
   "source": [
    "a='Tushar Tomer'\n",
    "b='tUSHAR tOMER'\n",
    "print(a.swapcase())\n",
    "print(b.swapcase())"
   ]
  },
  {
   "cell_type": "code",
   "execution_count": 92,
   "id": "3d2cb9e1",
   "metadata": {},
   "outputs": [
    {
     "name": "stdout",
     "output_type": "stream",
     "text": [
      "['a', 'quick', 'brown', 'fox', 'jumps', 'over', 'a', 'lazy', 'dog']\n",
      "['a', 'quick', 'brown', 'fox', 'jumps', 'over', 'the', 'lazy', 'dog']\n",
      "['a', 'quick', 'brown', 'fox', 'jumps', 'over', 'the', 'lazy', 'dog']\n",
      "['a,', 'brown', 'fox', 'jumps', 'over,the,lazy,dogs']\n",
      "['aquickbrownfoxjumpsoverthelazydog']\n"
     ]
    }
   ],
   "source": [
    "mystr4='a quick brown fox jumps over the lazy dog'\n",
    "mystr3='a,quick,brown,fox,jumps,over,the,lazy,dog'\n",
    "mystr2='a,/brown/fox/jumps/over,the,lazy,dogs'\n",
    "mystr1='aquickbrownfoxjumpsoverthelazydog'\n",
    "print(mystr.split())\n",
    "print(mystr4.split(' '))\n",
    "print(mystr3.split(','))\n",
    "print(mystr2.split('/'))\n",
    "print(mystr1.split())"
   ]
  },
  {
   "cell_type": "code",
   "execution_count": 34,
   "id": "a84cd5e0",
   "metadata": {},
   "outputs": [
    {
     "name": "stdout",
     "output_type": "stream",
     "text": [
      "a quick brown fox jumps over a lazy dog\n"
     ]
    }
   ],
   "source": [
    "print(mystr)"
   ]
  },
  {
   "cell_type": "code",
   "execution_count": 93,
   "id": "2a0ebf5b",
   "metadata": {},
   "outputs": [
    {
     "name": "stdout",
     "output_type": "stream",
     "text": [
      "a quick brown fox jumps over a lazy \n",
      " quick brown fox jumps over a lazy dog\n",
      "a quick brown fox jumps over a lazy dog\n",
      "True\n",
      "True\n"
     ]
    }
   ],
   "source": [
    "# strip function prints the string after removing the from beginning and end\n",
    "# a quick brown fox jumps over a lazy dog\n",
    "print(mystr.strip(\"dog\"))\n",
    "print(mystr.strip('a'))\n",
    "print(mystr.strip('fox'))\n",
    "print(mystr.endswith('dog'))\n",
    "print(mystr.startswith('a'))"
   ]
  },
  {
   "cell_type": "code",
   "execution_count": 96,
   "id": "cf07d071",
   "metadata": {},
   "outputs": [
    {
     "name": "stdout",
     "output_type": "stream",
     "text": [
      "a quick brown fox jumps over the lazy \n",
      "8\n"
     ]
    }
   ],
   "source": [
    "a='a quick brown fox jumps over the lazy dogs.'\n",
    "print(a.strip(\"dogs\"))# It does not strip because last word is dot(.) strip does not cut middle value\n",
    "print(a.index('brown'))"
   ]
  },
  {
   "cell_type": "code",
   "execution_count": 113,
   "id": "376c3803",
   "metadata": {},
   "outputs": [
    {
     "name": "stdout",
     "output_type": "stream",
     "text": [
      "2\n"
     ]
    }
   ],
   "source": [
    "email='abcc@123.com'\n",
    "c=0\n",
    "for i in email:\n",
    "    if i.isalpha() or i.isdigit():\n",
    "        pass\n",
    "    else:\n",
    "        c+=1\n",
    "print(c)"
   ]
  },
  {
   "cell_type": "code",
   "execution_count": 98,
   "id": "eea5f5c5",
   "metadata": {},
   "outputs": [
    {
     "name": "stdout",
     "output_type": "stream",
     "text": [
      "2\n"
     ]
    }
   ],
   "source": [
    "email='abcc@123.com'\n",
    "c=0\n",
    "for i in email:\n",
    "    if i.isalnum():\n",
    "        pass\n",
    "    else:\n",
    "        c+=1\n",
    "print(c)"
   ]
  },
  {
   "cell_type": "code",
   "execution_count": 195,
   "id": "005b5e5d",
   "metadata": {},
   "outputs": [
    {
     "name": "stdout",
     "output_type": "stream",
     "text": [
      "1 a\n",
      "2  \n",
      "3 q\n",
      "4 u\n",
      "5 i\n",
      "6 c\n",
      "7 k\n",
      "8  \n",
      "9 b\n",
      "10 r\n",
      "11 o\n",
      "12 w\n",
      "13 n\n",
      "14  \n",
      "15 f\n",
      "16 o\n",
      "17 x\n",
      "18  \n",
      "19 j\n",
      "20 u\n",
      "21 m\n",
      "22 p\n",
      "23 s\n",
      "24  \n",
      "25 o\n",
      "26 v\n",
      "27 e\n",
      "28 r\n",
      "29  \n",
      "30 t\n",
      "31 h\n",
      "32 e\n",
      "33  \n",
      "34 l\n",
      "35 a\n",
      "36 z\n",
      "37 y\n",
      "38  \n",
      "39 d\n",
      "40 o\n",
      "41 g\n"
     ]
    }
   ],
   "source": [
    "a='a quick brown fox jumps over the lazy dog'\n",
    "b=1\n",
    "for i in a:\n",
    "    print(b,i)\n",
    "    b+=1"
   ]
  },
  {
   "cell_type": "markdown",
   "id": "90479b95",
   "metadata": {},
   "source": [
    "# Write a string and remove space and print the string in column\n",
    "# Print a word and check it's palidrom or not. Ex=madam"
   ]
  },
  {
   "cell_type": "code",
   "execution_count": 100,
   "id": "a62032ff",
   "metadata": {},
   "outputs": [
    {
     "name": "stdout",
     "output_type": "stream",
     "text": [
      "a quick brown fox jumps over the lazy dogs\n",
      " quick brown fox jumps over the lazy dogs\n",
      "['a', 'quick', 'brown', 'fox', 'jumps', 'over', 'the', 'lazy', 'dogs']\n",
      "aquickbrownfoxjumpsoverthelazydogs\n"
     ]
    }
   ],
   "source": [
    "a='a quick brown fox jumps over the lazy dogs'\n",
    "print(str(a))\n",
    "print(a.strip('a'))\n",
    "b=a.split(' ')\n",
    "print(b)\n",
    "print(''.join(b))"
   ]
  },
  {
   "cell_type": "code",
   "execution_count": 102,
   "id": "3808da9c",
   "metadata": {},
   "outputs": [
    {
     "name": "stdout",
     "output_type": "stream",
     "text": [
      "madam\n",
      "Palidrom:\n"
     ]
    }
   ],
   "source": [
    "a='madam'\n",
    "b=a[-1::-1]\n",
    "print(b)\n",
    "if a==b:\n",
    "    print(\"Palidrom:\")\n",
    "else:\n",
    "    print(\"Not Palidrom\")"
   ]
  },
  {
   "cell_type": "code",
   "execution_count": 110,
   "id": "d5d17366",
   "metadata": {},
   "outputs": [
    {
     "name": "stdout",
     "output_type": "stream",
     "text": [
      "Enter any no.=1234\n",
      "1234 Not a Palidrom:\n"
     ]
    }
   ],
   "source": [
    "a=input(\"Enter any no.=\")\n",
    "b=a[::-1]\n",
    "if b==a:\n",
    "    print(a,\"is a Palidrom:\")\n",
    "else:\n",
    "    print(a,\"Not a Palidrom:\")"
   ]
  },
  {
   "cell_type": "code",
   "execution_count": 118,
   "id": "9168a13c",
   "metadata": {},
   "outputs": [
    {
     "name": "stdout",
     "output_type": "stream",
     "text": [
      "Enter Any No.=1234\n",
      "4321\n",
      "1234 is not a palidrom:\n"
     ]
    }
   ],
   "source": [
    "a=int(input(\"Enter Any No.=\"))\n",
    "e=a\n",
    "d=0\n",
    "while a!=0:\n",
    "    b=a%10\n",
    "    d=d*10+b\n",
    "    a=a//10\n",
    "print(d)\n",
    "if d==e:\n",
    "    print(e,'is a palidrom:')\n",
    "else:\n",
    "    print(e,'is not a palidrom:')"
   ]
  },
  {
   "cell_type": "code",
   "execution_count": 123,
   "id": "288f257e",
   "metadata": {},
   "outputs": [
    {
     "name": "stdout",
     "output_type": "stream",
     "text": [
      "[0, 1, 2, 4, 4, 5, 6, 7, 8, 9]\n",
      "[9, 8, 7, 6, 5, 4, 4, 2, 1, 0]\n"
     ]
    }
   ],
   "source": [
    "a=1,2,4,7,8,5,6,9,4,0\n",
    "print(sorted(a))\n",
    "print(sorted(a,reverse=True))"
   ]
  },
  {
   "cell_type": "code",
   "execution_count": 41,
   "id": "5a6dd83e",
   "metadata": {},
   "outputs": [
    {
     "name": "stdout",
     "output_type": "stream",
     "text": [
      "['Tushar', 'is', 'a', 'very', 'good', 'boy', '.']\n"
     ]
    }
   ],
   "source": [
    "a='Tushar is a very good boy .'\n",
    "print(a.split(' '))"
   ]
  },
  {
   "cell_type": "code",
   "execution_count": 13,
   "id": "ab9f70a6",
   "metadata": {},
   "outputs": [
    {
     "name": "stdout",
     "output_type": "stream",
     "text": [
      "a quickbrownfxjmpsvethlzydg\n",
      "[' ', 'a', 'b', 'c', 'd', 'e', 'f', 'g', 'h', 'i', 'j', 'k', 'l', 'm', 'n', 'o', 'p', 'q', 'r', 's', 't', 'u', 'v', 'w', 'x', 'y', 'z']\n",
      " abcdefghijklmnopqrstuvwxyz\n"
     ]
    }
   ],
   "source": [
    "s='a quick brown fox jumps over the lazy dogs'\n",
    "x=''\n",
    "for i in s:\n",
    "    if i not in x:\n",
    "        x=x+i\n",
    "    else:\n",
    "        pass\n",
    "    \n",
    "print(x)\n",
    "y=sorted(x)\n",
    "print(y)\n",
    "print(''.join(y))"
   ]
  },
  {
   "cell_type": "code",
   "execution_count": 125,
   "id": "5b6f88cd",
   "metadata": {},
   "outputs": [
    {
     "name": "stdout",
     "output_type": "stream",
     "text": [
      "a quickbrownfxjmpsvethlzydg\n",
      "[' ', 'a', 'b', 'c', 'd', 'e', 'f', 'g', 'h', 'i', 'j', 'k', 'l', 'm', 'n', 'o', 'p', 'q', 'r', 's', 't', 'u', 'v', 'w', 'x', 'y', 'z']\n",
      " abcdefghijklmnopqrstuvwxyz\n",
      "abcdefghijklmnopqrstuvwxyz\n"
     ]
    }
   ],
   "source": [
    "a='a quick brown fox jumps over the lazy dogs'\n",
    "b=''\n",
    "f=''\n",
    "for i in a:\n",
    "    if i not in b:\n",
    "        b=b+i\n",
    "    else:\n",
    "        pass\n",
    "print(b)\n",
    "d=sorted(b)\n",
    "print(d)\n",
    "e=(''.join(d))\n",
    "print(e)\n",
    "for i in e:\n",
    "    if i==' ':\n",
    "        pass\n",
    "    else:\n",
    "        f=f+i\n",
    "print(f)"
   ]
  },
  {
   "cell_type": "code",
   "execution_count": 29,
   "id": "b510c7b1",
   "metadata": {},
   "outputs": [
    {
     "name": "stdout",
     "output_type": "stream",
     "text": [
      "a quic\n"
     ]
    }
   ],
   "source": [
    "a='a quick brown fox jumps over the lazy dogs'\n",
    "print(a[0:6])"
   ]
  },
  {
   "cell_type": "code",
   "execution_count": 26,
   "id": "6e590171",
   "metadata": {},
   "outputs": [
    {
     "name": "stdout",
     "output_type": "stream",
     "text": [
      "['u', 's', 'r', 'h', 'a', 'T']\n",
      "['T', 'a', 'h', 'r', 's', 'u']\n"
     ]
    }
   ],
   "source": [
    "a='Tushar'\n",
    "b=(sorted(a,reverse=True))\n",
    "print(b)\n",
    "r=sorted(b)\n",
    "print(r)"
   ]
  },
  {
   "cell_type": "markdown",
   "id": "acfe4fe7",
   "metadata": {},
   "source": [
    "# floor() and ceil()\n",
    "# Both are remove after point value"
   ]
  },
  {
   "cell_type": "code",
   "execution_count": 3,
   "id": "b820467f",
   "metadata": {},
   "outputs": [
    {
     "name": "stdout",
     "output_type": "stream",
     "text": [
      "2\n"
     ]
    }
   ],
   "source": [
    "import math\n",
    "a=2.4444\n",
    "b=math.floor(a) # floor return less than or equal value. it remove point value\n",
    "print(b)"
   ]
  },
  {
   "cell_type": "code",
   "execution_count": 5,
   "id": "0555ff8a",
   "metadata": {},
   "outputs": [
    {
     "name": "stdout",
     "output_type": "stream",
     "text": [
      "2\n"
     ]
    }
   ],
   "source": [
    "import math\n",
    "a=2\n",
    "b=math.floor(a)\n",
    "print(b)"
   ]
  },
  {
   "cell_type": "code",
   "execution_count": 7,
   "id": "bc37630d",
   "metadata": {},
   "outputs": [
    {
     "name": "stdout",
     "output_type": "stream",
     "text": [
      "3\n"
     ]
    }
   ],
   "source": [
    "import math\n",
    "a=2.4444\n",
    "b=math.ceil(a) # ceil return greater than or equal value. it remove point value\n",
    "print(b)"
   ]
  },
  {
   "cell_type": "code",
   "execution_count": 8,
   "id": "d0f0c2dc",
   "metadata": {},
   "outputs": [
    {
     "name": "stdout",
     "output_type": "stream",
     "text": [
      "2\n"
     ]
    }
   ],
   "source": [
    "import math\n",
    "a=2\n",
    "b=math.floor(a)\n",
    "print(b)"
   ]
  },
  {
   "cell_type": "markdown",
   "id": "3df58a89",
   "metadata": {},
   "source": [
    "# round()\n",
    "# round hama float value ko roundof karke deta hai.Aur hum apne merji se kitne bhi no. tak roundof kr sakte hai."
   ]
  },
  {
   "cell_type": "code",
   "execution_count": 9,
   "id": "69bf0e80",
   "metadata": {},
   "outputs": [
    {
     "data": {
      "text/plain": [
       "2"
      ]
     },
     "execution_count": 9,
     "metadata": {},
     "output_type": "execute_result"
    }
   ],
   "source": [
    "import math\n",
    "a=2.4444\n",
    "b=round(a)\n",
    "b"
   ]
  },
  {
   "cell_type": "code",
   "execution_count": 10,
   "id": "84b0d131",
   "metadata": {},
   "outputs": [
    {
     "data": {
      "text/plain": [
       "2.44"
      ]
     },
     "execution_count": 10,
     "metadata": {},
     "output_type": "execute_result"
    }
   ],
   "source": [
    "import math\n",
    "a=2.4444\n",
    "b=round(a,2)\n",
    "b"
   ]
  }
 ],
 "metadata": {
  "kernelspec": {
   "display_name": "Python 3 (ipykernel)",
   "language": "python",
   "name": "python3"
  },
  "language_info": {
   "codemirror_mode": {
    "name": "ipython",
    "version": 3
   },
   "file_extension": ".py",
   "mimetype": "text/x-python",
   "name": "python",
   "nbconvert_exporter": "python",
   "pygments_lexer": "ipython3",
   "version": "3.9.12"
  }
 },
 "nbformat": 4,
 "nbformat_minor": 5
}
